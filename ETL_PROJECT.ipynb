{
 "cells": [
  {
   "cell_type": "code",
   "execution_count": 39,
   "metadata": {},
   "outputs": [],
   "source": [
    "import requests\n",
    "import bs4\n",
    "import urllib.parse\n",
    "import pymongo\n",
    "import pandas as pd\n",
    "from textblob import TextBlob"
   ]
  },
  {
   "cell_type": "code",
   "execution_count": null,
   "metadata": {},
   "outputs": [],
   "source": [
    "# the%20joker%20movie%20reviews\n",
    "movie = urllib.parse.quote('joker_2019')\n",
    "print(movie)"
   ]
  },
  {
   "cell_type": "code",
   "execution_count": null,
   "metadata": {},
   "outputs": [],
   "source": [
    "url = f\"https://www.rottentomatoes.com/m/{movie}/reviews?type=user\"\n",
    "print(url)"
   ]
  },
  {
   "cell_type": "code",
   "execution_count": null,
   "metadata": {},
   "outputs": [],
   "source": [
    "response = requests.get(url)\n",
    "print(response.status_code)"
   ]
  },
  {
   "cell_type": "code",
   "execution_count": null,
   "metadata": {},
   "outputs": [],
   "source": [
    "soup = bs4.BeautifulSoup(response.text, 'html.parser')\n",
    "#print(soup)"
   ]
  },
  {
   "cell_type": "code",
   "execution_count": null,
   "metadata": {},
   "outputs": [],
   "source": [
    "reviews = soup.find_all('p', class_ = 'audience-reviews__review js-review-text clamp clamp-8 js-clamp')\n",
    "print(reviews)"
   ]
  },
  {
   "cell_type": "code",
   "execution_count": null,
   "metadata": {},
   "outputs": [],
   "source": [
    "for h in reviews:\n",
    "    print(h.contents[0])"
   ]
  },
  {
   "cell_type": "code",
   "execution_count": null,
   "metadata": {},
   "outputs": [],
   "source": [
    "client = pymongo.MongoClient('mongodb://localhost:27017')\n",
    "db=client.Reviews\n",
    "col_reviews = db.Joker_2019\n",
    "col_index = db.Joker_2019\n",
    "reviews = soup.find_all('p', class_='audience-reviews__review js-review-text clamp clamp-8 js-clamp')\n",
    "#print(reviews)"
   ]
  },
  {
   "cell_type": "code",
   "execution_count": null,
   "metadata": {},
   "outputs": [],
   "source": [
    "index = 1\n",
    "for r in reviews:\n",
    "    new_r = {'index': index, 'review':r.contents[0]}\n",
    "    col_reviews.insert_one(new_r)\n",
    "    index = index + 1"
   ]
  },
  {
   "cell_type": "code",
   "execution_count": null,
   "metadata": {},
   "outputs": [],
   "source": [
    "!python -m textblob.download_corpora"
   ]
  },
  {
   "cell_type": "code",
   "execution_count": 46,
   "metadata": {},
   "outputs": [
    {
     "name": "stdout",
     "output_type": "stream",
     "text": [
      "Sentiment(polarity=1.0, subjectivity=1.0)\n",
      "Sentiment(polarity=0.0914862914862915, subjectivity=0.5236111111111111)\n",
      "Sentiment(polarity=0.21410256410256412, subjectivity=0.4641025641025641)\n",
      "Sentiment(polarity=0.20555555555555557, subjectivity=0.7361111111111112)\n",
      "Sentiment(polarity=0.55, subjectivity=0.65)\n",
      "Sentiment(polarity=-0.24107142857142858, subjectivity=0.5619047619047618)\n",
      "Sentiment(polarity=0.43163265306122456, subjectivity=0.5789115646258504)\n",
      "Sentiment(polarity=0.4, subjectivity=0.775)\n",
      "Sentiment(polarity=-0.05, subjectivity=0.1)\n",
      "Sentiment(polarity=0.8666666666666667, subjectivity=0.7666666666666666)\n"
     ]
    }
   ],
   "source": [
    "# for sentence in blob.sentences:\n",
    "for r in reviews:\n",
    "    blob = TextBlob(r.contents[0])\n",
    "    print(blob.sentiment)"
   ]
  },
  {
   "cell_type": "code",
   "execution_count": null,
   "metadata": {},
   "outputs": [],
   "source": [
    "#### EVERYTHING BELOW IS OPTIONAL #####"
   ]
  },
  {
   "cell_type": "code",
   "execution_count": null,
   "metadata": {},
   "outputs": [],
   "source": [
    "from splinter import Browser"
   ]
  },
  {
   "cell_type": "code",
   "execution_count": null,
   "metadata": {},
   "outputs": [],
   "source": [
    "executable_path={'executable_path': '/usr/local/bin/chromedriver'}\n",
    "browser = Browser('chrome', **executable_path, headless=False)\n",
    "browser.visit('https://www.rottentomatoes.com/m/joker_2019/reviews?type=user')"
   ]
  },
  {
   "cell_type": "code",
   "execution_count": 47,
   "metadata": {},
   "outputs": [
    {
     "name": "stdout",
     "output_type": "stream",
     "text": [
      "{'index': 1, 'review': 'Excellent Performance', 'polarity': 1.0, 'subjectivity': 1.0, '_id': ObjectId('5dd02d2a386edbeca7f18819')}\n",
      "{'index': 2, 'review': 'Joaquin should be in Oscar contention; a different Joker than Heath Ledgers but omgosh what a great portrayal.  Almost channeling Tom Hank\\'s character in Castaway, albeit darker.\\n\\nThe good in the movie?  Joaquin; portrayal of brain chemistry/mental health issues showing the pattern of regression than \"boom!!  mental health issues\"; implications on society - how people try to do good and if someone falters instead of lending a hand, many in power push those same people down, only to blame them; the tie-in to Batman\\n\\nThe bad?  very grisly, gruesome; I almost walked out\\n\\nthe teenagers laughing at the mental health issues in the movie are why this was rated R-17.  those kids had no business being in the theater and parents allowing them to go, are part of the reason for people suffering... no compassion for the character\\'s descent into madness, no compassion for the live humans around them trying to watch the show', 'polarity': 0.0914862914862915, 'subjectivity': 0.5236111111111111, '_id': ObjectId('5dd02d2a386edbeca7f1881a')}\n",
      "{'index': 3, 'review': \"Uh. I have many, many words, but I don't have adequate words for this. Brilliant? Perfect? Barely endurable? I don't know. I can share that somewhere 4 - 5 hours into this nightmare I blasphemously turned my phone back on to check the time and get a sense of how much longer I was going to have to hold on. 45 minutes later I was slack jawed and slowly clapping with the rest of the audience. I don't know if this is the best or worst movie of the year, but I had rewatch THE SECRET LIFE OF PETS 2 or TOY STORY 4 to repair my soul.\", 'polarity': 0.21410256410256412, 'subjectivity': 0.4641025641025641, '_id': ObjectId('5dd02d2a386edbeca7f1881b')}\n",
      "{'index': 4, 'review': \"A different look at the Joker from a sometimes uncomfortable perspective. Pheonix's performance was fantastic. He achieved the unthinkable, of being able to pull off this role and to be considered as good as Heath Ledger. A possible Oscar candidate. The movie is heart wrenching at times and morally challenging for the viewer at others. Well worth the price of your ticket.\", 'polarity': 0.20555555555555557, 'subjectivity': 0.7361111111111112, '_id': ObjectId('5dd02d2a386edbeca7f1881c')}\n",
      "{'index': 5, 'review': 'Had a “killing joke” vibe that I dug. The best adaptation of joker so far. ', 'polarity': 0.55, 'subjectivity': 0.65, '_id': ObjectId('5dd02d2a386edbeca7f1881d')}\n",
      "{'index': 6, 'review': \"A deep and twisted character piece that keeps you tight in its grips, and never let's go... \\nNot even after you stop breathing!\", 'polarity': -0.24107142857142858, 'subjectivity': 0.5619047619047618, '_id': ObjectId('5dd02d2a386edbeca7f1881e')}\n",
      "{'index': 7, 'review': \"I put off seeing it as I couldn't envisage the Joker as anyone but Heath Ledger. The movie told an origin story and was one of the best I've seen in years. It was visually gorgeous, brilliantly acted, and tightly and compelling written. I think it's the best thing I've seen since the series Breaking Bad. A masterpiece.\", 'polarity': 0.43163265306122456, 'subjectivity': 0.5789115646258504, '_id': ObjectId('5dd02d2a386edbeca7f1881f')}\n",
      "{'index': 8, 'review': 'Fantastic plot, everything about this movie is amazing, the cinematography, the story, the dark humor, it was just amazing, if you havent seem this movie you need to!', 'polarity': 0.4, 'subjectivity': 0.775, '_id': ObjectId('5dd02d2a386edbeca7f18820')}\n",
      "{'index': 9, 'review': 'Addressing misconceptions and mental illness as well as the back story for Joker.', 'polarity': -0.05, 'subjectivity': 0.1, '_id': ObjectId('5dd02d2a386edbeca7f18821')}\n",
      "{'index': 10, 'review': \"It's best when you forget you're watching an actor play a role. Joaquin Phoenix was so perfect at making his Joker his own.\", 'polarity': 0.8666666666666667, 'subjectivity': 0.7666666666666666, '_id': ObjectId('5dd02d2a386edbeca7f18822')}\n",
      "{'index': 11, 'review': 'Excellent Performance', 'polarity': 1.0, 'subjectivity': 1.0, '_id': ObjectId('5dd02d2f386edbeca7f18823')}\n",
      "{'index': 12, 'review': 'Joaquin should be in Oscar contention; a different Joker than Heath Ledgers but omgosh what a great portrayal.  Almost channeling Tom Hank\\'s character in Castaway, albeit darker.\\n\\nThe good in the movie?  Joaquin; portrayal of brain chemistry/mental health issues showing the pattern of regression than \"boom!!  mental health issues\"; implications on society - how people try to do good and if someone falters instead of lending a hand, many in power push those same people down, only to blame them; the tie-in to Batman\\n\\nThe bad?  very grisly, gruesome; I almost walked out\\n\\nthe teenagers laughing at the mental health issues in the movie are why this was rated R-17.  those kids had no business being in the theater and parents allowing them to go, are part of the reason for people suffering... no compassion for the character\\'s descent into madness, no compassion for the live humans around them trying to watch the show', 'polarity': 0.0914862914862915, 'subjectivity': 0.5236111111111111, '_id': ObjectId('5dd02d2f386edbeca7f18824')}\n",
      "{'index': 13, 'review': \"Uh. I have many, many words, but I don't have adequate words for this. Brilliant? Perfect? Barely endurable? I don't know. I can share that somewhere 4 - 5 hours into this nightmare I blasphemously turned my phone back on to check the time and get a sense of how much longer I was going to have to hold on. 45 minutes later I was slack jawed and slowly clapping with the rest of the audience. I don't know if this is the best or worst movie of the year, but I had rewatch THE SECRET LIFE OF PETS 2 or TOY STORY 4 to repair my soul.\", 'polarity': 0.21410256410256412, 'subjectivity': 0.4641025641025641, '_id': ObjectId('5dd02d2f386edbeca7f18825')}\n",
      "{'index': 14, 'review': \"A different look at the Joker from a sometimes uncomfortable perspective. Pheonix's performance was fantastic. He achieved the unthinkable, of being able to pull off this role and to be considered as good as Heath Ledger. A possible Oscar candidate. The movie is heart wrenching at times and morally challenging for the viewer at others. Well worth the price of your ticket.\", 'polarity': 0.20555555555555557, 'subjectivity': 0.7361111111111112, '_id': ObjectId('5dd02d2f386edbeca7f18826')}\n",
      "{'index': 15, 'review': 'Had a “killing joke” vibe that I dug. The best adaptation of joker so far. ', 'polarity': 0.55, 'subjectivity': 0.65, '_id': ObjectId('5dd02d2f386edbeca7f18827')}\n",
      "{'index': 16, 'review': \"A deep and twisted character piece that keeps you tight in its grips, and never let's go... \\nNot even after you stop breathing!\", 'polarity': -0.24107142857142858, 'subjectivity': 0.5619047619047618, '_id': ObjectId('5dd02d2f386edbeca7f18828')}\n",
      "{'index': 17, 'review': \"I put off seeing it as I couldn't envisage the Joker as anyone but Heath Ledger. The movie told an origin story and was one of the best I've seen in years. It was visually gorgeous, brilliantly acted, and tightly and compelling written. I think it's the best thing I've seen since the series Breaking Bad. A masterpiece.\", 'polarity': 0.43163265306122456, 'subjectivity': 0.5789115646258504, '_id': ObjectId('5dd02d2f386edbeca7f18829')}\n",
      "{'index': 18, 'review': 'Fantastic plot, everything about this movie is amazing, the cinematography, the story, the dark humor, it was just amazing, if you havent seem this movie you need to!', 'polarity': 0.4, 'subjectivity': 0.775, '_id': ObjectId('5dd02d2f386edbeca7f1882a')}\n",
      "{'index': 19, 'review': 'Addressing misconceptions and mental illness as well as the back story for Joker.', 'polarity': -0.05, 'subjectivity': 0.1, '_id': ObjectId('5dd02d2f386edbeca7f1882b')}\n",
      "{'index': 20, 'review': \"It's best when you forget you're watching an actor play a role. Joaquin Phoenix was so perfect at making his Joker his own.\", 'polarity': 0.8666666666666667, 'subjectivity': 0.7666666666666666, '_id': ObjectId('5dd02d2f386edbeca7f1882c')}\n",
      "{'index': 21, 'review': 'Excellent Performance', 'polarity': 1.0, 'subjectivity': 1.0, '_id': ObjectId('5dd02d35386edbeca7f1882d')}\n",
      "{'index': 22, 'review': 'Joaquin should be in Oscar contention; a different Joker than Heath Ledgers but omgosh what a great portrayal.  Almost channeling Tom Hank\\'s character in Castaway, albeit darker.\\n\\nThe good in the movie?  Joaquin; portrayal of brain chemistry/mental health issues showing the pattern of regression than \"boom!!  mental health issues\"; implications on society - how people try to do good and if someone falters instead of lending a hand, many in power push those same people down, only to blame them; the tie-in to Batman\\n\\nThe bad?  very grisly, gruesome; I almost walked out\\n\\nthe teenagers laughing at the mental health issues in the movie are why this was rated R-17.  those kids had no business being in the theater and parents allowing them to go, are part of the reason for people suffering... no compassion for the character\\'s descent into madness, no compassion for the live humans around them trying to watch the show', 'polarity': 0.0914862914862915, 'subjectivity': 0.5236111111111111, '_id': ObjectId('5dd02d35386edbeca7f1882e')}\n",
      "{'index': 23, 'review': \"Uh. I have many, many words, but I don't have adequate words for this. Brilliant? Perfect? Barely endurable? I don't know. I can share that somewhere 4 - 5 hours into this nightmare I blasphemously turned my phone back on to check the time and get a sense of how much longer I was going to have to hold on. 45 minutes later I was slack jawed and slowly clapping with the rest of the audience. I don't know if this is the best or worst movie of the year, but I had rewatch THE SECRET LIFE OF PETS 2 or TOY STORY 4 to repair my soul.\", 'polarity': 0.21410256410256412, 'subjectivity': 0.4641025641025641, '_id': ObjectId('5dd02d35386edbeca7f1882f')}\n",
      "{'index': 24, 'review': \"A different look at the Joker from a sometimes uncomfortable perspective. Pheonix's performance was fantastic. He achieved the unthinkable, of being able to pull off this role and to be considered as good as Heath Ledger. A possible Oscar candidate. The movie is heart wrenching at times and morally challenging for the viewer at others. Well worth the price of your ticket.\", 'polarity': 0.20555555555555557, 'subjectivity': 0.7361111111111112, '_id': ObjectId('5dd02d35386edbeca7f18830')}\n",
      "{'index': 25, 'review': 'Had a “killing joke” vibe that I dug. The best adaptation of joker so far. ', 'polarity': 0.55, 'subjectivity': 0.65, '_id': ObjectId('5dd02d35386edbeca7f18831')}\n",
      "{'index': 26, 'review': \"A deep and twisted character piece that keeps you tight in its grips, and never let's go... \\nNot even after you stop breathing!\", 'polarity': -0.24107142857142858, 'subjectivity': 0.5619047619047618, '_id': ObjectId('5dd02d35386edbeca7f18832')}\n",
      "{'index': 27, 'review': \"I put off seeing it as I couldn't envisage the Joker as anyone but Heath Ledger. The movie told an origin story and was one of the best I've seen in years. It was visually gorgeous, brilliantly acted, and tightly and compelling written. I think it's the best thing I've seen since the series Breaking Bad. A masterpiece.\", 'polarity': 0.43163265306122456, 'subjectivity': 0.5789115646258504, '_id': ObjectId('5dd02d35386edbeca7f18833')}\n",
      "{'index': 28, 'review': 'Fantastic plot, everything about this movie is amazing, the cinematography, the story, the dark humor, it was just amazing, if you havent seem this movie you need to!', 'polarity': 0.4, 'subjectivity': 0.775, '_id': ObjectId('5dd02d35386edbeca7f18834')}\n",
      "{'index': 29, 'review': 'Addressing misconceptions and mental illness as well as the back story for Joker.', 'polarity': -0.05, 'subjectivity': 0.1, '_id': ObjectId('5dd02d35386edbeca7f18835')}\n",
      "{'index': 30, 'review': \"It's best when you forget you're watching an actor play a role. Joaquin Phoenix was so perfect at making his Joker his own.\", 'polarity': 0.8666666666666667, 'subjectivity': 0.7666666666666666, '_id': ObjectId('5dd02d35386edbeca7f18836')}\n",
      "{'index': 31, 'review': 'Excellent Performance', 'polarity': 1.0, 'subjectivity': 1.0, '_id': ObjectId('5dd02d3a386edbeca7f18837')}\n",
      "{'index': 32, 'review': 'Joaquin should be in Oscar contention; a different Joker than Heath Ledgers but omgosh what a great portrayal.  Almost channeling Tom Hank\\'s character in Castaway, albeit darker.\\n\\nThe good in the movie?  Joaquin; portrayal of brain chemistry/mental health issues showing the pattern of regression than \"boom!!  mental health issues\"; implications on society - how people try to do good and if someone falters instead of lending a hand, many in power push those same people down, only to blame them; the tie-in to Batman\\n\\nThe bad?  very grisly, gruesome; I almost walked out\\n\\nthe teenagers laughing at the mental health issues in the movie are why this was rated R-17.  those kids had no business being in the theater and parents allowing them to go, are part of the reason for people suffering... no compassion for the character\\'s descent into madness, no compassion for the live humans around them trying to watch the show', 'polarity': 0.0914862914862915, 'subjectivity': 0.5236111111111111, '_id': ObjectId('5dd02d3a386edbeca7f18838')}\n",
      "{'index': 33, 'review': \"Uh. I have many, many words, but I don't have adequate words for this. Brilliant? Perfect? Barely endurable? I don't know. I can share that somewhere 4 - 5 hours into this nightmare I blasphemously turned my phone back on to check the time and get a sense of how much longer I was going to have to hold on. 45 minutes later I was slack jawed and slowly clapping with the rest of the audience. I don't know if this is the best or worst movie of the year, but I had rewatch THE SECRET LIFE OF PETS 2 or TOY STORY 4 to repair my soul.\", 'polarity': 0.21410256410256412, 'subjectivity': 0.4641025641025641, '_id': ObjectId('5dd02d3a386edbeca7f18839')}\n",
      "{'index': 34, 'review': \"A different look at the Joker from a sometimes uncomfortable perspective. Pheonix's performance was fantastic. He achieved the unthinkable, of being able to pull off this role and to be considered as good as Heath Ledger. A possible Oscar candidate. The movie is heart wrenching at times and morally challenging for the viewer at others. Well worth the price of your ticket.\", 'polarity': 0.20555555555555557, 'subjectivity': 0.7361111111111112, '_id': ObjectId('5dd02d3a386edbeca7f1883a')}\n",
      "{'index': 35, 'review': 'Had a “killing joke” vibe that I dug. The best adaptation of joker so far. ', 'polarity': 0.55, 'subjectivity': 0.65, '_id': ObjectId('5dd02d3a386edbeca7f1883b')}\n",
      "{'index': 36, 'review': \"A deep and twisted character piece that keeps you tight in its grips, and never let's go... \\nNot even after you stop breathing!\", 'polarity': -0.24107142857142858, 'subjectivity': 0.5619047619047618, '_id': ObjectId('5dd02d3a386edbeca7f1883c')}\n",
      "{'index': 37, 'review': \"I put off seeing it as I couldn't envisage the Joker as anyone but Heath Ledger. The movie told an origin story and was one of the best I've seen in years. It was visually gorgeous, brilliantly acted, and tightly and compelling written. I think it's the best thing I've seen since the series Breaking Bad. A masterpiece.\", 'polarity': 0.43163265306122456, 'subjectivity': 0.5789115646258504, '_id': ObjectId('5dd02d3a386edbeca7f1883d')}\n",
      "{'index': 38, 'review': 'Fantastic plot, everything about this movie is amazing, the cinematography, the story, the dark humor, it was just amazing, if you havent seem this movie you need to!', 'polarity': 0.4, 'subjectivity': 0.775, '_id': ObjectId('5dd02d3a386edbeca7f1883e')}\n",
      "{'index': 39, 'review': 'Addressing misconceptions and mental illness as well as the back story for Joker.', 'polarity': -0.05, 'subjectivity': 0.1, '_id': ObjectId('5dd02d3a386edbeca7f1883f')}\n",
      "{'index': 40, 'review': \"It's best when you forget you're watching an actor play a role. Joaquin Phoenix was so perfect at making his Joker his own.\", 'polarity': 0.8666666666666667, 'subjectivity': 0.7666666666666666, '_id': ObjectId('5dd02d3a386edbeca7f18840')}\n",
      "{'index': 41, 'review': 'Excellent Performance', 'polarity': 1.0, 'subjectivity': 1.0, '_id': ObjectId('5dd02d3f386edbeca7f18841')}\n",
      "{'index': 42, 'review': 'Joaquin should be in Oscar contention; a different Joker than Heath Ledgers but omgosh what a great portrayal.  Almost channeling Tom Hank\\'s character in Castaway, albeit darker.\\n\\nThe good in the movie?  Joaquin; portrayal of brain chemistry/mental health issues showing the pattern of regression than \"boom!!  mental health issues\"; implications on society - how people try to do good and if someone falters instead of lending a hand, many in power push those same people down, only to blame them; the tie-in to Batman\\n\\nThe bad?  very grisly, gruesome; I almost walked out\\n\\nthe teenagers laughing at the mental health issues in the movie are why this was rated R-17.  those kids had no business being in the theater and parents allowing them to go, are part of the reason for people suffering... no compassion for the character\\'s descent into madness, no compassion for the live humans around them trying to watch the show', 'polarity': 0.0914862914862915, 'subjectivity': 0.5236111111111111, '_id': ObjectId('5dd02d3f386edbeca7f18842')}\n",
      "{'index': 43, 'review': \"Uh. I have many, many words, but I don't have adequate words for this. Brilliant? Perfect? Barely endurable? I don't know. I can share that somewhere 4 - 5 hours into this nightmare I blasphemously turned my phone back on to check the time and get a sense of how much longer I was going to have to hold on. 45 minutes later I was slack jawed and slowly clapping with the rest of the audience. I don't know if this is the best or worst movie of the year, but I had rewatch THE SECRET LIFE OF PETS 2 or TOY STORY 4 to repair my soul.\", 'polarity': 0.21410256410256412, 'subjectivity': 0.4641025641025641, '_id': ObjectId('5dd02d3f386edbeca7f18843')}\n",
      "{'index': 44, 'review': \"A different look at the Joker from a sometimes uncomfortable perspective. Pheonix's performance was fantastic. He achieved the unthinkable, of being able to pull off this role and to be considered as good as Heath Ledger. A possible Oscar candidate. The movie is heart wrenching at times and morally challenging for the viewer at others. Well worth the price of your ticket.\", 'polarity': 0.20555555555555557, 'subjectivity': 0.7361111111111112, '_id': ObjectId('5dd02d3f386edbeca7f18844')}\n",
      "{'index': 45, 'review': 'Had a “killing joke” vibe that I dug. The best adaptation of joker so far. ', 'polarity': 0.55, 'subjectivity': 0.65, '_id': ObjectId('5dd02d3f386edbeca7f18845')}\n",
      "{'index': 46, 'review': \"A deep and twisted character piece that keeps you tight in its grips, and never let's go... \\nNot even after you stop breathing!\", 'polarity': -0.24107142857142858, 'subjectivity': 0.5619047619047618, '_id': ObjectId('5dd02d3f386edbeca7f18846')}\n",
      "{'index': 47, 'review': \"I put off seeing it as I couldn't envisage the Joker as anyone but Heath Ledger. The movie told an origin story and was one of the best I've seen in years. It was visually gorgeous, brilliantly acted, and tightly and compelling written. I think it's the best thing I've seen since the series Breaking Bad. A masterpiece.\", 'polarity': 0.43163265306122456, 'subjectivity': 0.5789115646258504, '_id': ObjectId('5dd02d3f386edbeca7f18847')}\n",
      "{'index': 48, 'review': 'Fantastic plot, everything about this movie is amazing, the cinematography, the story, the dark humor, it was just amazing, if you havent seem this movie you need to!', 'polarity': 0.4, 'subjectivity': 0.775, '_id': ObjectId('5dd02d3f386edbeca7f18848')}\n",
      "{'index': 49, 'review': 'Addressing misconceptions and mental illness as well as the back story for Joker.', 'polarity': -0.05, 'subjectivity': 0.1, '_id': ObjectId('5dd02d3f386edbeca7f18849')}\n",
      "{'index': 50, 'review': \"It's best when you forget you're watching an actor play a role. Joaquin Phoenix was so perfect at making his Joker his own.\", 'polarity': 0.8666666666666667, 'subjectivity': 0.7666666666666666, '_id': ObjectId('5dd02d3f386edbeca7f1884a')}\n",
      "{'index': 51, 'review': 'Excellent Performance', 'polarity': 1.0, 'subjectivity': 1.0, '_id': ObjectId('5dd02d44386edbeca7f1884b')}\n",
      "{'index': 52, 'review': 'Joaquin should be in Oscar contention; a different Joker than Heath Ledgers but omgosh what a great portrayal.  Almost channeling Tom Hank\\'s character in Castaway, albeit darker.\\n\\nThe good in the movie?  Joaquin; portrayal of brain chemistry/mental health issues showing the pattern of regression than \"boom!!  mental health issues\"; implications on society - how people try to do good and if someone falters instead of lending a hand, many in power push those same people down, only to blame them; the tie-in to Batman\\n\\nThe bad?  very grisly, gruesome; I almost walked out\\n\\nthe teenagers laughing at the mental health issues in the movie are why this was rated R-17.  those kids had no business being in the theater and parents allowing them to go, are part of the reason for people suffering... no compassion for the character\\'s descent into madness, no compassion for the live humans around them trying to watch the show', 'polarity': 0.0914862914862915, 'subjectivity': 0.5236111111111111, '_id': ObjectId('5dd02d44386edbeca7f1884c')}\n",
      "{'index': 53, 'review': \"Uh. I have many, many words, but I don't have adequate words for this. Brilliant? Perfect? Barely endurable? I don't know. I can share that somewhere 4 - 5 hours into this nightmare I blasphemously turned my phone back on to check the time and get a sense of how much longer I was going to have to hold on. 45 minutes later I was slack jawed and slowly clapping with the rest of the audience. I don't know if this is the best or worst movie of the year, but I had rewatch THE SECRET LIFE OF PETS 2 or TOY STORY 4 to repair my soul.\", 'polarity': 0.21410256410256412, 'subjectivity': 0.4641025641025641, '_id': ObjectId('5dd02d44386edbeca7f1884d')}\n",
      "{'index': 54, 'review': \"A different look at the Joker from a sometimes uncomfortable perspective. Pheonix's performance was fantastic. He achieved the unthinkable, of being able to pull off this role and to be considered as good as Heath Ledger. A possible Oscar candidate. The movie is heart wrenching at times and morally challenging for the viewer at others. Well worth the price of your ticket.\", 'polarity': 0.20555555555555557, 'subjectivity': 0.7361111111111112, '_id': ObjectId('5dd02d44386edbeca7f1884e')}\n",
      "{'index': 55, 'review': 'Had a “killing joke” vibe that I dug. The best adaptation of joker so far. ', 'polarity': 0.55, 'subjectivity': 0.65, '_id': ObjectId('5dd02d44386edbeca7f1884f')}\n",
      "{'index': 56, 'review': \"A deep and twisted character piece that keeps you tight in its grips, and never let's go... \\nNot even after you stop breathing!\", 'polarity': -0.24107142857142858, 'subjectivity': 0.5619047619047618, '_id': ObjectId('5dd02d44386edbeca7f18850')}\n",
      "{'index': 57, 'review': \"I put off seeing it as I couldn't envisage the Joker as anyone but Heath Ledger. The movie told an origin story and was one of the best I've seen in years. It was visually gorgeous, brilliantly acted, and tightly and compelling written. I think it's the best thing I've seen since the series Breaking Bad. A masterpiece.\", 'polarity': 0.43163265306122456, 'subjectivity': 0.5789115646258504, '_id': ObjectId('5dd02d44386edbeca7f18851')}\n",
      "{'index': 58, 'review': 'Fantastic plot, everything about this movie is amazing, the cinematography, the story, the dark humor, it was just amazing, if you havent seem this movie you need to!', 'polarity': 0.4, 'subjectivity': 0.775, '_id': ObjectId('5dd02d44386edbeca7f18852')}\n",
      "{'index': 59, 'review': 'Addressing misconceptions and mental illness as well as the back story for Joker.', 'polarity': -0.05, 'subjectivity': 0.1, '_id': ObjectId('5dd02d44386edbeca7f18853')}\n",
      "{'index': 60, 'review': \"It's best when you forget you're watching an actor play a role. Joaquin Phoenix was so perfect at making his Joker his own.\", 'polarity': 0.8666666666666667, 'subjectivity': 0.7666666666666666, '_id': ObjectId('5dd02d44386edbeca7f18854')}\n",
      "{'index': 61, 'review': 'Excellent Performance', 'polarity': 1.0, 'subjectivity': 1.0, '_id': ObjectId('5dd02d4a386edbeca7f18855')}\n",
      "{'index': 62, 'review': 'Joaquin should be in Oscar contention; a different Joker than Heath Ledgers but omgosh what a great portrayal.  Almost channeling Tom Hank\\'s character in Castaway, albeit darker.\\n\\nThe good in the movie?  Joaquin; portrayal of brain chemistry/mental health issues showing the pattern of regression than \"boom!!  mental health issues\"; implications on society - how people try to do good and if someone falters instead of lending a hand, many in power push those same people down, only to blame them; the tie-in to Batman\\n\\nThe bad?  very grisly, gruesome; I almost walked out\\n\\nthe teenagers laughing at the mental health issues in the movie are why this was rated R-17.  those kids had no business being in the theater and parents allowing them to go, are part of the reason for people suffering... no compassion for the character\\'s descent into madness, no compassion for the live humans around them trying to watch the show', 'polarity': 0.0914862914862915, 'subjectivity': 0.5236111111111111, '_id': ObjectId('5dd02d4a386edbeca7f18856')}\n",
      "{'index': 63, 'review': \"Uh. I have many, many words, but I don't have adequate words for this. Brilliant? Perfect? Barely endurable? I don't know. I can share that somewhere 4 - 5 hours into this nightmare I blasphemously turned my phone back on to check the time and get a sense of how much longer I was going to have to hold on. 45 minutes later I was slack jawed and slowly clapping with the rest of the audience. I don't know if this is the best or worst movie of the year, but I had rewatch THE SECRET LIFE OF PETS 2 or TOY STORY 4 to repair my soul.\", 'polarity': 0.21410256410256412, 'subjectivity': 0.4641025641025641, '_id': ObjectId('5dd02d4a386edbeca7f18857')}\n",
      "{'index': 64, 'review': \"A different look at the Joker from a sometimes uncomfortable perspective. Pheonix's performance was fantastic. He achieved the unthinkable, of being able to pull off this role and to be considered as good as Heath Ledger. A possible Oscar candidate. The movie is heart wrenching at times and morally challenging for the viewer at others. Well worth the price of your ticket.\", 'polarity': 0.20555555555555557, 'subjectivity': 0.7361111111111112, '_id': ObjectId('5dd02d4a386edbeca7f18858')}\n",
      "{'index': 65, 'review': 'Had a “killing joke” vibe that I dug. The best adaptation of joker so far. ', 'polarity': 0.55, 'subjectivity': 0.65, '_id': ObjectId('5dd02d4a386edbeca7f18859')}\n",
      "{'index': 66, 'review': \"A deep and twisted character piece that keeps you tight in its grips, and never let's go... \\nNot even after you stop breathing!\", 'polarity': -0.24107142857142858, 'subjectivity': 0.5619047619047618, '_id': ObjectId('5dd02d4a386edbeca7f1885a')}\n",
      "{'index': 67, 'review': \"I put off seeing it as I couldn't envisage the Joker as anyone but Heath Ledger. The movie told an origin story and was one of the best I've seen in years. It was visually gorgeous, brilliantly acted, and tightly and compelling written. I think it's the best thing I've seen since the series Breaking Bad. A masterpiece.\", 'polarity': 0.43163265306122456, 'subjectivity': 0.5789115646258504, '_id': ObjectId('5dd02d4a386edbeca7f1885b')}\n",
      "{'index': 68, 'review': 'Fantastic plot, everything about this movie is amazing, the cinematography, the story, the dark humor, it was just amazing, if you havent seem this movie you need to!', 'polarity': 0.4, 'subjectivity': 0.775, '_id': ObjectId('5dd02d4a386edbeca7f1885c')}\n",
      "{'index': 69, 'review': 'Addressing misconceptions and mental illness as well as the back story for Joker.', 'polarity': -0.05, 'subjectivity': 0.1, '_id': ObjectId('5dd02d4a386edbeca7f1885d')}\n",
      "{'index': 70, 'review': \"It's best when you forget you're watching an actor play a role. Joaquin Phoenix was so perfect at making his Joker his own.\", 'polarity': 0.8666666666666667, 'subjectivity': 0.7666666666666666, '_id': ObjectId('5dd02d4a386edbeca7f1885e')}\n",
      "{'index': 71, 'review': 'Excellent Performance', 'polarity': 1.0, 'subjectivity': 1.0, '_id': ObjectId('5dd02d4f386edbeca7f1885f')}\n",
      "{'index': 72, 'review': 'Joaquin should be in Oscar contention; a different Joker than Heath Ledgers but omgosh what a great portrayal.  Almost channeling Tom Hank\\'s character in Castaway, albeit darker.\\n\\nThe good in the movie?  Joaquin; portrayal of brain chemistry/mental health issues showing the pattern of regression than \"boom!!  mental health issues\"; implications on society - how people try to do good and if someone falters instead of lending a hand, many in power push those same people down, only to blame them; the tie-in to Batman\\n\\nThe bad?  very grisly, gruesome; I almost walked out\\n\\nthe teenagers laughing at the mental health issues in the movie are why this was rated R-17.  those kids had no business being in the theater and parents allowing them to go, are part of the reason for people suffering... no compassion for the character\\'s descent into madness, no compassion for the live humans around them trying to watch the show', 'polarity': 0.0914862914862915, 'subjectivity': 0.5236111111111111, '_id': ObjectId('5dd02d4f386edbeca7f18860')}\n",
      "{'index': 73, 'review': \"Uh. I have many, many words, but I don't have adequate words for this. Brilliant? Perfect? Barely endurable? I don't know. I can share that somewhere 4 - 5 hours into this nightmare I blasphemously turned my phone back on to check the time and get a sense of how much longer I was going to have to hold on. 45 minutes later I was slack jawed and slowly clapping with the rest of the audience. I don't know if this is the best or worst movie of the year, but I had rewatch THE SECRET LIFE OF PETS 2 or TOY STORY 4 to repair my soul.\", 'polarity': 0.21410256410256412, 'subjectivity': 0.4641025641025641, '_id': ObjectId('5dd02d4f386edbeca7f18861')}\n",
      "{'index': 74, 'review': \"A different look at the Joker from a sometimes uncomfortable perspective. Pheonix's performance was fantastic. He achieved the unthinkable, of being able to pull off this role and to be considered as good as Heath Ledger. A possible Oscar candidate. The movie is heart wrenching at times and morally challenging for the viewer at others. Well worth the price of your ticket.\", 'polarity': 0.20555555555555557, 'subjectivity': 0.7361111111111112, '_id': ObjectId('5dd02d4f386edbeca7f18862')}\n",
      "{'index': 75, 'review': 'Had a “killing joke” vibe that I dug. The best adaptation of joker so far. ', 'polarity': 0.55, 'subjectivity': 0.65, '_id': ObjectId('5dd02d4f386edbeca7f18863')}\n",
      "{'index': 76, 'review': \"A deep and twisted character piece that keeps you tight in its grips, and never let's go... \\nNot even after you stop breathing!\", 'polarity': -0.24107142857142858, 'subjectivity': 0.5619047619047618, '_id': ObjectId('5dd02d4f386edbeca7f18864')}\n",
      "{'index': 77, 'review': \"I put off seeing it as I couldn't envisage the Joker as anyone but Heath Ledger. The movie told an origin story and was one of the best I've seen in years. It was visually gorgeous, brilliantly acted, and tightly and compelling written. I think it's the best thing I've seen since the series Breaking Bad. A masterpiece.\", 'polarity': 0.43163265306122456, 'subjectivity': 0.5789115646258504, '_id': ObjectId('5dd02d4f386edbeca7f18865')}\n",
      "{'index': 78, 'review': 'Fantastic plot, everything about this movie is amazing, the cinematography, the story, the dark humor, it was just amazing, if you havent seem this movie you need to!', 'polarity': 0.4, 'subjectivity': 0.775, '_id': ObjectId('5dd02d4f386edbeca7f18866')}\n",
      "{'index': 79, 'review': 'Addressing misconceptions and mental illness as well as the back story for Joker.', 'polarity': -0.05, 'subjectivity': 0.1, '_id': ObjectId('5dd02d4f386edbeca7f18867')}\n",
      "{'index': 80, 'review': \"It's best when you forget you're watching an actor play a role. Joaquin Phoenix was so perfect at making his Joker his own.\", 'polarity': 0.8666666666666667, 'subjectivity': 0.7666666666666666, '_id': ObjectId('5dd02d4f386edbeca7f18868')}\n",
      "{'index': 81, 'review': 'Excellent Performance', 'polarity': 1.0, 'subjectivity': 1.0, '_id': ObjectId('5dd02d55386edbeca7f18869')}\n",
      "{'index': 82, 'review': 'Joaquin should be in Oscar contention; a different Joker than Heath Ledgers but omgosh what a great portrayal.  Almost channeling Tom Hank\\'s character in Castaway, albeit darker.\\n\\nThe good in the movie?  Joaquin; portrayal of brain chemistry/mental health issues showing the pattern of regression than \"boom!!  mental health issues\"; implications on society - how people try to do good and if someone falters instead of lending a hand, many in power push those same people down, only to blame them; the tie-in to Batman\\n\\nThe bad?  very grisly, gruesome; I almost walked out\\n\\nthe teenagers laughing at the mental health issues in the movie are why this was rated R-17.  those kids had no business being in the theater and parents allowing them to go, are part of the reason for people suffering... no compassion for the character\\'s descent into madness, no compassion for the live humans around them trying to watch the show', 'polarity': 0.0914862914862915, 'subjectivity': 0.5236111111111111, '_id': ObjectId('5dd02d55386edbeca7f1886a')}\n",
      "{'index': 83, 'review': \"Uh. I have many, many words, but I don't have adequate words for this. Brilliant? Perfect? Barely endurable? I don't know. I can share that somewhere 4 - 5 hours into this nightmare I blasphemously turned my phone back on to check the time and get a sense of how much longer I was going to have to hold on. 45 minutes later I was slack jawed and slowly clapping with the rest of the audience. I don't know if this is the best or worst movie of the year, but I had rewatch THE SECRET LIFE OF PETS 2 or TOY STORY 4 to repair my soul.\", 'polarity': 0.21410256410256412, 'subjectivity': 0.4641025641025641, '_id': ObjectId('5dd02d55386edbeca7f1886b')}\n",
      "{'index': 84, 'review': \"A different look at the Joker from a sometimes uncomfortable perspective. Pheonix's performance was fantastic. He achieved the unthinkable, of being able to pull off this role and to be considered as good as Heath Ledger. A possible Oscar candidate. The movie is heart wrenching at times and morally challenging for the viewer at others. Well worth the price of your ticket.\", 'polarity': 0.20555555555555557, 'subjectivity': 0.7361111111111112, '_id': ObjectId('5dd02d55386edbeca7f1886c')}\n",
      "{'index': 85, 'review': 'Had a “killing joke” vibe that I dug. The best adaptation of joker so far. ', 'polarity': 0.55, 'subjectivity': 0.65, '_id': ObjectId('5dd02d55386edbeca7f1886d')}\n",
      "{'index': 86, 'review': \"A deep and twisted character piece that keeps you tight in its grips, and never let's go... \\nNot even after you stop breathing!\", 'polarity': -0.24107142857142858, 'subjectivity': 0.5619047619047618, '_id': ObjectId('5dd02d55386edbeca7f1886e')}\n",
      "{'index': 87, 'review': \"I put off seeing it as I couldn't envisage the Joker as anyone but Heath Ledger. The movie told an origin story and was one of the best I've seen in years. It was visually gorgeous, brilliantly acted, and tightly and compelling written. I think it's the best thing I've seen since the series Breaking Bad. A masterpiece.\", 'polarity': 0.43163265306122456, 'subjectivity': 0.5789115646258504, '_id': ObjectId('5dd02d55386edbeca7f1886f')}\n",
      "{'index': 88, 'review': 'Fantastic plot, everything about this movie is amazing, the cinematography, the story, the dark humor, it was just amazing, if you havent seem this movie you need to!', 'polarity': 0.4, 'subjectivity': 0.775, '_id': ObjectId('5dd02d55386edbeca7f18870')}\n",
      "{'index': 89, 'review': 'Addressing misconceptions and mental illness as well as the back story for Joker.', 'polarity': -0.05, 'subjectivity': 0.1, '_id': ObjectId('5dd02d55386edbeca7f18871')}\n",
      "{'index': 90, 'review': \"It's best when you forget you're watching an actor play a role. Joaquin Phoenix was so perfect at making his Joker his own.\", 'polarity': 0.8666666666666667, 'subjectivity': 0.7666666666666666, '_id': ObjectId('5dd02d55386edbeca7f18872')}\n",
      "{'index': 91, 'review': 'Excellent Performance', 'polarity': 1.0, 'subjectivity': 1.0, '_id': ObjectId('5dd02d5a386edbeca7f18873')}\n",
      "{'index': 92, 'review': 'Joaquin should be in Oscar contention; a different Joker than Heath Ledgers but omgosh what a great portrayal.  Almost channeling Tom Hank\\'s character in Castaway, albeit darker.\\n\\nThe good in the movie?  Joaquin; portrayal of brain chemistry/mental health issues showing the pattern of regression than \"boom!!  mental health issues\"; implications on society - how people try to do good and if someone falters instead of lending a hand, many in power push those same people down, only to blame them; the tie-in to Batman\\n\\nThe bad?  very grisly, gruesome; I almost walked out\\n\\nthe teenagers laughing at the mental health issues in the movie are why this was rated R-17.  those kids had no business being in the theater and parents allowing them to go, are part of the reason for people suffering... no compassion for the character\\'s descent into madness, no compassion for the live humans around them trying to watch the show', 'polarity': 0.0914862914862915, 'subjectivity': 0.5236111111111111, '_id': ObjectId('5dd02d5a386edbeca7f18874')}\n",
      "{'index': 93, 'review': \"Uh. I have many, many words, but I don't have adequate words for this. Brilliant? Perfect? Barely endurable? I don't know. I can share that somewhere 4 - 5 hours into this nightmare I blasphemously turned my phone back on to check the time and get a sense of how much longer I was going to have to hold on. 45 minutes later I was slack jawed and slowly clapping with the rest of the audience. I don't know if this is the best or worst movie of the year, but I had rewatch THE SECRET LIFE OF PETS 2 or TOY STORY 4 to repair my soul.\", 'polarity': 0.21410256410256412, 'subjectivity': 0.4641025641025641, '_id': ObjectId('5dd02d5a386edbeca7f18875')}\n",
      "{'index': 94, 'review': \"A different look at the Joker from a sometimes uncomfortable perspective. Pheonix's performance was fantastic. He achieved the unthinkable, of being able to pull off this role and to be considered as good as Heath Ledger. A possible Oscar candidate. The movie is heart wrenching at times and morally challenging for the viewer at others. Well worth the price of your ticket.\", 'polarity': 0.20555555555555557, 'subjectivity': 0.7361111111111112, '_id': ObjectId('5dd02d5a386edbeca7f18876')}\n",
      "{'index': 95, 'review': 'Had a “killing joke” vibe that I dug. The best adaptation of joker so far. ', 'polarity': 0.55, 'subjectivity': 0.65, '_id': ObjectId('5dd02d5a386edbeca7f18877')}\n",
      "{'index': 96, 'review': \"A deep and twisted character piece that keeps you tight in its grips, and never let's go... \\nNot even after you stop breathing!\", 'polarity': -0.24107142857142858, 'subjectivity': 0.5619047619047618, '_id': ObjectId('5dd02d5a386edbeca7f18878')}\n",
      "{'index': 97, 'review': \"I put off seeing it as I couldn't envisage the Joker as anyone but Heath Ledger. The movie told an origin story and was one of the best I've seen in years. It was visually gorgeous, brilliantly acted, and tightly and compelling written. I think it's the best thing I've seen since the series Breaking Bad. A masterpiece.\", 'polarity': 0.43163265306122456, 'subjectivity': 0.5789115646258504, '_id': ObjectId('5dd02d5a386edbeca7f18879')}\n",
      "{'index': 98, 'review': 'Fantastic plot, everything about this movie is amazing, the cinematography, the story, the dark humor, it was just amazing, if you havent seem this movie you need to!', 'polarity': 0.4, 'subjectivity': 0.775, '_id': ObjectId('5dd02d5a386edbeca7f1887a')}\n",
      "{'index': 99, 'review': 'Addressing misconceptions and mental illness as well as the back story for Joker.', 'polarity': -0.05, 'subjectivity': 0.1, '_id': ObjectId('5dd02d5a386edbeca7f1887b')}\n",
      "{'index': 100, 'review': \"It's best when you forget you're watching an actor play a role. Joaquin Phoenix was so perfect at making his Joker his own.\", 'polarity': 0.8666666666666667, 'subjectivity': 0.7666666666666666, '_id': ObjectId('5dd02d5a386edbeca7f1887c')}\n"
     ]
    }
   ],
   "source": [
    "def foo():\n",
    "    i = 0\n",
    "    index = 1\n",
    "    while i < 10:\n",
    "        i = i + 1\n",
    "        try:\n",
    "            browser.html\n",
    "            soup = bs4.BeautifulSoup(response.text, 'html.parser')\n",
    "            reviews = soup.find_all('p', class_ = 'audience-reviews__review js-review-text clamp clamp-8 js-clamp')\n",
    "            browser.find_by_xpath('//*[@id=\"content\"]/div/div/nav[3]/button[2]/span').click()\n",
    "            for r in reviews:\n",
    "                blob = TextBlob(r.contents[0])\n",
    "                new_r = {'index': index, 'review':r.contents[0], \n",
    "                         'polarity': blob.sentiment[0], 'subjectivity': blob.sentiment[1]}\n",
    "                col_reviews.insert_one(new_r)\n",
    "                index = index + 1\n",
    "                print(new_r)\n",
    "        except: \n",
    "            return\n",
    "        \n",
    "foo()"
   ]
  },
  {
   "cell_type": "code",
   "execution_count": 37,
   "metadata": {},
   "outputs": [
    {
     "name": "stdout",
     "output_type": "stream",
     "text": [
      "Collecting textblob\n",
      "\u001b[?25l  Downloading https://files.pythonhosted.org/packages/60/f0/1d9bfcc8ee6b83472ec571406bd0dd51c0e6330ff1a51b2d29861d389e85/textblob-0.15.3-py2.py3-none-any.whl (636kB)\n",
      "\u001b[K     |████████████████████████████████| 645kB 1.2MB/s eta 0:00:01\n",
      "\u001b[?25hRequirement already satisfied, skipping upgrade: nltk>=3.1 in /anaconda3/lib/python3.7/site-packages (from textblob) (3.4.4)\n",
      "Requirement already satisfied, skipping upgrade: six in /anaconda3/lib/python3.7/site-packages (from nltk>=3.1->textblob) (1.12.0)\n",
      "Installing collected packages: textblob\n",
      "Successfully installed textblob-0.15.3\n",
      "Note: you may need to restart the kernel to use updated packages.\n"
     ]
    }
   ],
   "source": [
    "pip install -U textblob"
   ]
  },
  {
   "cell_type": "code",
   "execution_count": 35,
   "metadata": {},
   "outputs": [
    {
     "ename": "NameError",
     "evalue": "name 'TextBlob' is not defined",
     "output_type": "error",
     "traceback": [
      "\u001b[0;31m---------------------------------------------------------------------------\u001b[0m",
      "\u001b[0;31mNameError\u001b[0m                                 Traceback (most recent call last)",
      "\u001b[0;32m<ipython-input-35-9677087e4855>\u001b[0m in \u001b[0;36m<module>\u001b[0;34m\u001b[0m\n\u001b[1;32m      1\u001b[0m \u001b[0;31m# for sentence in blob.sentences:\u001b[0m\u001b[0;34m\u001b[0m\u001b[0;34m\u001b[0m\u001b[0;34m\u001b[0m\u001b[0m\n\u001b[1;32m      2\u001b[0m \u001b[0;32mfor\u001b[0m \u001b[0mr\u001b[0m \u001b[0;32min\u001b[0m \u001b[0mreviews\u001b[0m\u001b[0;34m:\u001b[0m\u001b[0;34m\u001b[0m\u001b[0;34m\u001b[0m\u001b[0m\n\u001b[0;32m----> 3\u001b[0;31m     \u001b[0mblob\u001b[0m \u001b[0;34m=\u001b[0m \u001b[0mTextBlob\u001b[0m\u001b[0;34m(\u001b[0m\u001b[0mr\u001b[0m\u001b[0;34m.\u001b[0m\u001b[0mcontents\u001b[0m\u001b[0;34m[\u001b[0m\u001b[0;36m0\u001b[0m\u001b[0;34m]\u001b[0m\u001b[0;34m)\u001b[0m\u001b[0;34m\u001b[0m\u001b[0;34m\u001b[0m\u001b[0m\n\u001b[0m\u001b[1;32m      4\u001b[0m     \u001b[0mprint\u001b[0m\u001b[0;34m(\u001b[0m\u001b[0mblob\u001b[0m\u001b[0;34m.\u001b[0m\u001b[0msentiment\u001b[0m\u001b[0;34m)\u001b[0m\u001b[0;34m\u001b[0m\u001b[0;34m\u001b[0m\u001b[0m\n",
      "\u001b[0;31mNameError\u001b[0m: name 'TextBlob' is not defined"
     ]
    }
   ],
   "source": []
  },
  {
   "cell_type": "code",
   "execution_count": null,
   "metadata": {},
   "outputs": [],
   "source": []
  }
 ],
 "metadata": {
  "kernelspec": {
   "display_name": "Python 3",
   "language": "python",
   "name": "python3"
  },
  "language_info": {
   "codemirror_mode": {
    "name": "ipython",
    "version": 3
   },
   "file_extension": ".py",
   "mimetype": "text/x-python",
   "name": "python",
   "nbconvert_exporter": "python",
   "pygments_lexer": "ipython3",
   "version": "3.7.3"
  }
 },
 "nbformat": 4,
 "nbformat_minor": 4
}
